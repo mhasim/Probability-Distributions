{
 "cells": [
  {
   "cell_type": "markdown",
   "id": "5dea93a3",
   "metadata": {},
   "source": [
    "# STATISTICS\n",
    "## ASSIGNMENT (PROBABILITY DISTRIBUTIONS)\n",
    "Solve at least 3 exercises."
   ]
  },
  {
   "cell_type": "markdown",
   "id": "756268de",
   "metadata": {},
   "source": [
    "### EXERCISE 1\n",
    "Answer the following questions by looking at the distribution table or coding with Python."
   ]
  },
  {
   "cell_type": "markdown",
   "id": "eb6c1474",
   "metadata": {},
   "source": [
    "1.\tA salesperson has found that the probability of a sale on a single contact is approximately .3. If the salesperson contacts 10 prospects, what is the approximate probability of making at least one sale? (Wackerly, Ex.3.135)"
   ]
  },
  {
   "cell_type": "code",
   "execution_count": 6,
   "id": "ed1650b8",
   "metadata": {},
   "outputs": [
    {
     "data": {
      "text/plain": [
       "0.9717524751000001"
      ]
     },
     "execution_count": 6,
     "metadata": {},
     "output_type": "execute_result"
    }
   ],
   "source": [
    "1 - (0.7**10)"
   ]
  },
  {
   "cell_type": "code",
   "execution_count": 12,
   "id": "c6800cd5",
   "metadata": {},
   "outputs": [
    {
     "data": {
      "text/plain": [
       "0.9717524751000001"
      ]
     },
     "execution_count": 12,
     "metadata": {},
     "output_type": "execute_result"
    }
   ],
   "source": [
    "1-stats.binom.cdf(0, 10, 0.3)"
   ]
  },
  {
   "cell_type": "markdown",
   "id": "618ead44",
   "metadata": {},
   "source": [
    "2.\tTen coins are tossed simultaneously. Find the probability of getting\n",
    "(i) at least seven heads\n",
    "(ii) exactly seven heads\n",
    "(iii)at most seven heads"
   ]
  },
  {
   "cell_type": "code",
   "execution_count": 8,
   "id": "e1620fe1",
   "metadata": {},
   "outputs": [],
   "source": [
    "#(i) at least seven heads\n",
    "from scipy import stats"
   ]
  },
  {
   "cell_type": "code",
   "execution_count": 11,
   "id": "8e855e99",
   "metadata": {},
   "outputs": [
    {
     "data": {
      "text/plain": [
       "0.171875"
      ]
     },
     "execution_count": 11,
     "metadata": {},
     "output_type": "execute_result"
    }
   ],
   "source": [
    "1 - stats.binom.cdf(6, 10, 0.5)"
   ]
  },
  {
   "cell_type": "code",
   "execution_count": 14,
   "id": "99502e1b",
   "metadata": {},
   "outputs": [
    {
     "data": {
      "text/plain": [
       "0.17187500000000014"
      ]
     },
     "execution_count": 14,
     "metadata": {},
     "output_type": "execute_result"
    }
   ],
   "source": [
    "stats.binom.pmf(7, 10, 0.5) + stats.binom.pmf(8, 10, 0.5) + stats.binom.pmf(9, 10, 0.5) + stats.binom.pmf(10, 10, 0.5)"
   ]
  },
  {
   "cell_type": "code",
   "execution_count": 10,
   "id": "3150dda1",
   "metadata": {},
   "outputs": [
    {
     "data": {
      "text/plain": [
       "0.11718750000000014"
      ]
     },
     "execution_count": 10,
     "metadata": {},
     "output_type": "execute_result"
    }
   ],
   "source": [
    "# (ii) exactly seven heads\n",
    "stats.binom.pmf(7, 10, 0.5)"
   ]
  },
  {
   "cell_type": "code",
   "execution_count": 13,
   "id": "dab53762",
   "metadata": {},
   "outputs": [
    {
     "data": {
      "text/plain": [
       "0.9453125"
      ]
     },
     "execution_count": 13,
     "metadata": {},
     "output_type": "execute_result"
    }
   ],
   "source": [
    "# (iii) at most seven heads\n",
    "stats.binom.cdf(7, 10, 0.5)"
   ]
  },
  {
   "cell_type": "markdown",
   "id": "909d77ff",
   "metadata": {},
   "source": [
    "### EXERCISE 2. \n",
    "The cycle time for trucks hauling concrete to a highway construction site is uniformly distributed over the interval 50 to 70 minutes. What is the probability that the cycle time exceeds 65 minutes  if it is known that the cycle time exceeds 55 minutes? (Wackerly, Ex.4.51)\n"
   ]
  },
  {
   "cell_type": "code",
   "execution_count": 15,
   "id": "559e4c8d",
   "metadata": {},
   "outputs": [
    {
     "data": {
      "text/plain": [
       "0.3333333333333333"
      ]
     },
     "execution_count": 15,
     "metadata": {},
     "output_type": "execute_result"
    }
   ],
   "source": [
    "(70-65) / (70-55)"
   ]
  },
  {
   "cell_type": "markdown",
   "id": "d42b69af",
   "metadata": {},
   "source": [
    "### EXERCISE 3. \n",
    "The width of bolts of fabric is normally distributed with mean 950 mm (millimeters) and standard deviation 10 mm."
   ]
  },
  {
   "cell_type": "markdown",
   "id": "8eb54d08",
   "metadata": {},
   "source": [
    "1.\tWhat is the probability that a randomly chosen bolt has a width of between 947 and 958mm?"
   ]
  },
  {
   "cell_type": "code",
   "execution_count": 16,
   "id": "303fb15c",
   "metadata": {},
   "outputs": [
    {
     "data": {
      "text/plain": [
       "0.8"
      ]
     },
     "execution_count": 16,
     "metadata": {},
     "output_type": "execute_result"
    }
   ],
   "source": [
    "(958-950)/10"
   ]
  },
  {
   "cell_type": "code",
   "execution_count": null,
   "id": "33e3f7af",
   "metadata": {},
   "outputs": [],
   "source": [
    "#z score for 0.8\n",
    "0.7881"
   ]
  },
  {
   "cell_type": "code",
   "execution_count": 17,
   "id": "fbc04988",
   "metadata": {},
   "outputs": [
    {
     "data": {
      "text/plain": [
       "-0.3"
      ]
     },
     "execution_count": 17,
     "metadata": {},
     "output_type": "execute_result"
    }
   ],
   "source": [
    "(947 - 950)/10"
   ]
  },
  {
   "cell_type": "code",
   "execution_count": null,
   "id": "fbca0b63",
   "metadata": {},
   "outputs": [],
   "source": [
    "#z score for -0.3\n",
    "0.3821"
   ]
  },
  {
   "cell_type": "code",
   "execution_count": 18,
   "id": "34ba9375",
   "metadata": {},
   "outputs": [
    {
     "data": {
      "text/plain": [
       "0.406"
      ]
     },
     "execution_count": 18,
     "metadata": {},
     "output_type": "execute_result"
    }
   ],
   "source": [
    "0.7881 - 0.3821"
   ]
  },
  {
   "cell_type": "code",
   "execution_count": 23,
   "id": "72948834",
   "metadata": {},
   "outputs": [],
   "source": [
    "import statistics"
   ]
  },
  {
   "cell_type": "code",
   "execution_count": 31,
   "id": "01f4605a",
   "metadata": {},
   "outputs": [
    {
     "data": {
      "text/plain": [
       "0.406056023605556"
      ]
     },
     "execution_count": 31,
     "metadata": {},
     "output_type": "execute_result"
    }
   ],
   "source": [
    "stats.norm(950, 10).cdf(958) - stats.norm(950, 10).cdf(947)"
   ]
  },
  {
   "cell_type": "markdown",
   "id": "3c4f25d6",
   "metadata": {},
   "source": [
    "2.\tWhat is the appropriate value for C such that a randomly chosen bolt has a width less than C with probability .8531? (Wackerly, Ex.4.73)"
   ]
  },
  {
   "cell_type": "code",
   "execution_count": null,
   "id": "6f96ee16",
   "metadata": {},
   "outputs": [],
   "source": [
    "# z-value 1.05 has probablity of 0.8531\n",
    "(C-950)/10 = 1.05"
   ]
  },
  {
   "cell_type": "code",
   "execution_count": null,
   "id": "00e714ad",
   "metadata": {},
   "outputs": [],
   "source": [
    "960.5"
   ]
  },
  {
   "cell_type": "markdown",
   "id": "4121afd0",
   "metadata": {},
   "source": [
    "### EXERCISE 4. \n",
    "Suppose scores on exams in statistics are normally distributed with an unknown population mean and a population standard deviation of 3 points. A random sample of 36 scores is taken and gives a sample mean (sample mean score) of 68. Find a confidence interval estimate for the population mean exam score (the mean score on all exams). Find a 90% confidence interval for the true (population) mean of statistics exam scores."
   ]
  },
  {
   "cell_type": "code",
   "execution_count": 37,
   "id": "1fd58ab7",
   "metadata": {},
   "outputs": [
    {
     "data": {
      "text/plain": [
       "68.8225"
      ]
     },
     "execution_count": 37,
     "metadata": {},
     "output_type": "execute_result"
    }
   ],
   "source": [
    "(1.645 * 3)/6 + 68"
   ]
  },
  {
   "cell_type": "code",
   "execution_count": 36,
   "id": "666456d8",
   "metadata": {},
   "outputs": [
    {
     "data": {
      "text/plain": [
       "67.1775"
      ]
     },
     "execution_count": 36,
     "metadata": {},
     "output_type": "execute_result"
    }
   ],
   "source": [
    "((-1.645) * 3)/6 + 68"
   ]
  },
  {
   "cell_type": "code",
   "execution_count": null,
   "id": "6fc8384b",
   "metadata": {},
   "outputs": [],
   "source": [
    "# z-value for %95 is 1.645"
   ]
  },
  {
   "cell_type": "code",
   "execution_count": 38,
   "id": "5e79e4a1",
   "metadata": {},
   "outputs": [
    {
     "data": {
      "text/plain": [
       "0.8225"
      ]
     },
     "execution_count": 38,
     "metadata": {},
     "output_type": "execute_result"
    }
   ],
   "source": [
    "1.645*(3/(36**(1/2)))"
   ]
  },
  {
   "cell_type": "code",
   "execution_count": 42,
   "id": "ff40c0cd",
   "metadata": {},
   "outputs": [
    {
     "data": {
      "text/plain": [
       "67.1775"
      ]
     },
     "execution_count": 42,
     "metadata": {},
     "output_type": "execute_result"
    }
   ],
   "source": [
    "68 - (1.645*(3/(36**(1/2))))"
   ]
  },
  {
   "cell_type": "code",
   "execution_count": 43,
   "id": "dc1d4f6c",
   "metadata": {},
   "outputs": [
    {
     "data": {
      "text/plain": [
       "68.8225"
      ]
     },
     "execution_count": 43,
     "metadata": {},
     "output_type": "execute_result"
    }
   ],
   "source": [
    "68 + (1.645*(3/(36**(1/2))))"
   ]
  },
  {
   "cell_type": "code",
   "execution_count": null,
   "id": "c868f3b9",
   "metadata": {},
   "outputs": [],
   "source": [
    "# %90 Confidence interval is 67.1775 and 68.8225"
   ]
  },
  {
   "cell_type": "markdown",
   "id": "d719ab1f",
   "metadata": {},
   "source": [
    "### EXERCISE 5.  \n",
    "What is the normal body temperature for healthy humans? A random sample of 130 healthy human body temperatures provided by Allen Shoemaker yielded 98.25 degrees and standard deviation 0.73 degrees.\n",
    "\n",
    "Source: Wackerly, D., Mendenhall, W., & Scheaffer, R. L. (2014). Mathematical statistics with applications. Cengage Learning."
   ]
  },
  {
   "cell_type": "markdown",
   "id": "0d755853",
   "metadata": {},
   "source": [
    "1.\tGive a 99% confidence interval for the average body temperature of healthy people."
   ]
  },
  {
   "cell_type": "code",
   "execution_count": null,
   "id": "f7170b64",
   "metadata": {},
   "outputs": [],
   "source": [
    "# z-value for %99.5 is 2.575"
   ]
  },
  {
   "cell_type": "code",
   "execution_count": 44,
   "id": "2bc80a14",
   "metadata": {},
   "outputs": [
    {
     "data": {
      "text/plain": [
       "98.08513501882076"
      ]
     },
     "execution_count": 44,
     "metadata": {},
     "output_type": "execute_result"
    }
   ],
   "source": [
    "98.25 - (2.575*(0.73 / (130**(1/2))))"
   ]
  },
  {
   "cell_type": "code",
   "execution_count": 45,
   "id": "b6650ab4",
   "metadata": {},
   "outputs": [
    {
     "data": {
      "text/plain": [
       "98.41486498117924"
      ]
     },
     "execution_count": 45,
     "metadata": {},
     "output_type": "execute_result"
    }
   ],
   "source": [
    "98.25 + (2.575*(0.73 / (130**(1/2))))"
   ]
  },
  {
   "cell_type": "code",
   "execution_count": null,
   "id": "5e7b34f5",
   "metadata": {},
   "outputs": [],
   "source": [
    "# %99 Confidence interval is 98.08513501882076 and 98.41486498117924"
   ]
  },
  {
   "cell_type": "markdown",
   "id": "a966d3a1",
   "metadata": {},
   "source": [
    "2. Does the confidence interval obtained in part (a) contain the value 98.6 degrees, the accepted average temperature cited by physicians and others? What conclusions can you draw? (Wackerly, Ex.8.60)"
   ]
  },
  {
   "cell_type": "code",
   "execution_count": null,
   "id": "b993ca47",
   "metadata": {},
   "outputs": [],
   "source": [
    "# The accepted average temperature, 98.6 degrees, is out of 99% confidence interval of the sample. But, the sample mean is expected to be closer to the population mean. So, we can conclude that either the sample is not random enough or it falls into that %1 probabability."
   ]
  }
 ],
 "metadata": {
  "kernelspec": {
   "display_name": "Python 3",
   "language": "python",
   "name": "python3"
  },
  "language_info": {
   "codemirror_mode": {
    "name": "ipython",
    "version": 3
   },
   "file_extension": ".py",
   "mimetype": "text/x-python",
   "name": "python",
   "nbconvert_exporter": "python",
   "pygments_lexer": "ipython3",
   "version": "3.8.8"
  }
 },
 "nbformat": 4,
 "nbformat_minor": 5
}
